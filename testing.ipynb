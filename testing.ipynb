{
 "cells": [
  {
   "cell_type": "markdown",
   "metadata": {},
   "source": [
    "find contours and generate bounding boxes"
   ]
  },
  {
   "cell_type": "code",
   "execution_count": 7,
   "metadata": {},
   "outputs": [],
   "source": [
    "import cv2\n",
    "import numpy as np\n",
    "mask_path = 'image.png'\n",
    "# Load the mask image\n",
    "mask = cv2.imread(mask_path, cv2.IMREAD_GRAYSCALE)\n",
    "\n",
    "# Find contours\n",
    "contours, _ = cv2.findContours(mask, cv2.RETR_EXTERNAL, cv2.CHAIN_APPROX_SIMPLE)\n",
    "\n",
    "# Initialize a list to store bounding boxes\n",
    "bounding_boxes = []\n",
    "\n",
    "# Generate bounding boxes\n",
    "for contour in contours:\n",
    "    x, y, w, h = cv2.boundingRect(contour)\n",
    "    bounding_boxes.append([x, y, x+w, y+h])\n",
    "\n",
    "# Now bounding_boxes contains all the bounding boxes for the mask\n"
   ]
  },
  {
   "cell_type": "markdown",
   "metadata": {},
   "source": [
    "convert to coco"
   ]
  },
  {
   "cell_type": "code",
   "execution_count": 8,
   "metadata": {},
   "outputs": [
    {
     "data": {
      "text/plain": [
       "'./leaf_disease_coco.json'"
      ]
     },
     "execution_count": 8,
     "metadata": {},
     "output_type": "execute_result"
    }
   ],
   "source": [
    "import json\n",
    "\n",
    "# Example dataset information, replace with actual details if available\n",
    "info = {\n",
    "    \"description\": \"Leaf Disease Segmentation Dataset\",\n",
    "    \"url\": \"https://www.kaggle.com/datasets/fakhrealam9537/leaf-disease-segmentation-dataset\",\n",
    "    \"version\": \"1.0\",\n",
    "    \"year\": 2024,\n",
    "    \"contributor\": \"provided by user\",\n",
    "    \"date_created\": \"2024-05-05\"\n",
    "}\n",
    "\n",
    "# Licenses (typically dataset-specific, this is an example placeholder)\n",
    "licenses = [{\n",
    "    \"id\": 1,\n",
    "    \"name\": \"Unknown License\",\n",
    "    \"url\": \"https://www.kaggle.com/datasets/fakhrealam9537/leaf-disease-segmentation-dataset\"\n",
    "}]\n",
    "\n",
    "# Placeholder for categories, should be defined according to the actual classes in the dataset\n",
    "categories = [{\n",
    "    \"id\": 1,\n",
    "    \"name\": \"disease\",\n",
    "    \"supercategory\": \"leaf\"\n",
    "}]\n",
    "\n",
    "# Building the annotations and images lists for COCO format\n",
    "annotations = []\n",
    "images = []\n",
    "annotation_id = 1\n",
    "\n",
    "for i, bbox in enumerate(bounding_boxes, start=1):\n",
    "    annotations.append({\n",
    "        \"id\": annotation_id,\n",
    "        \"image_id\": i,\n",
    "        \"category_id\": 1,  # Assuming only one category 'disease'\n",
    "        \"segmentation\": [],  # This example does not include segmentation masks\n",
    "        \"area\": (bbox[2] - bbox[0]) * (bbox[3] - bbox[1]),\n",
    "        \"bbox\": bbox,\n",
    "        \"iscrowd\": 0\n",
    "    })\n",
    "    images.append({\n",
    "        \"id\": i,\n",
    "        \"width\": mask.shape[1],\n",
    "        \"height\": mask.shape[0],\n",
    "        \"file_name\": f\"image_{i}.png\",\n",
    "        \"license\": 1,\n",
    "        \"flickr_url\": \"\",  # Typically used for reference, not applicable here\n",
    "        \"coco_url\": \"\",    # Typically used for reference, not applicable here\n",
    "        \"date_captured\": \"2024-05-05\"\n",
    "    })\n",
    "    annotation_id += 1\n",
    "\n",
    "# Combine everything into the COCO dataset format\n",
    "coco_format = {\n",
    "    \"info\": info,\n",
    "    \"licenses\": licenses,\n",
    "    \"images\": images,\n",
    "    \"annotations\": annotations,\n",
    "    \"categories\": categories\n",
    "}\n",
    "\n",
    "# Save the COCO format data to a JSON file\n",
    "coco_file_path = \"./leaf_disease_coco.json\"\n",
    "with open(coco_file_path, \"w\") as file:\n",
    "    json.dump(coco_format, file)\n",
    "\n",
    "coco_file_path\n"
   ]
  },
  {
   "cell_type": "code",
   "execution_count": 9,
   "metadata": {},
   "outputs": [
    {
     "data": {
      "image/png": "[encoded data removed]",
      "text/plain": [
       "<Figure size 1000x1000 with 1 Axes>"
      ]
     },
     "metadata": {},
     "output_type": "display_data"
    }
   ],
   "source": [
    "import json\n",
    "import matplotlib.pyplot as plt\n",
    "import cv2\n",
    "\n",
    "# Load the JSON data\n",
    "with open(\"./leaf_disease_coco.json\") as f:\n",
    "    coco_data = json.load(f)\n",
    "\n",
    "# Extract bounding box information\n",
    "bounding_boxes = [anno['bbox'] for anno in coco_data['annotations']]\n",
    "\n",
    "# Load the mask image\n",
    "mask_path = \"./image.png\"\n",
    "mask_image = cv2.imread(mask_path, cv2.IMREAD_ANYCOLOR)\n",
    "\n",
    "# Convert the mask to a 3-channel image to display bounding boxes in color\n",
    "mask_image_rgb = cv2.cvtColor(mask_image, cv2.COLOR_BGR2RGB)\n",
    "\n",
    "# Draw bounding boxes on the image\n",
    "for bbox in bounding_boxes:\n",
    "    x1, y1, x2, y2 = bbox[0], bbox[1], bbox[2], bbox[3]\n",
    "    cv2.rectangle(mask_image_rgb, (x1, y1), (x2, y2), (0, 0, 255), 2)  # Blue boxes\n",
    "\n",
    "# Plot the image with bounding boxes\n",
    "plt.figure(figsize=(10, 10))\n",
    "plt.imshow(mask_image_rgb)\n",
    "plt.axis('off')  # Turn off axis numbers and ticks\n",
    "plt.show()\n"
   ]
  },
  {
   "cell_type": "code",
   "execution_count": null,
   "metadata": {},
   "outputs": [],
   "source": []
  }
 ],
 "metadata": {
  "kernelspec": {
   "display_name": ".venv",
   "language": "python",
   "name": "python3"
  },
  "language_info": {
   "codemirror_mode": {
    "name": "ipython",
    "version": 3
   },
   "file_extension": ".py",
   "mimetype": "text/x-python",
   "name": "python",
   "nbconvert_exporter": "python",
   "pygments_lexer": "ipython3",
   "version": "3.11.9"
  }
 },
 "nbformat": 4,
 "nbformat_minor": 2
}
